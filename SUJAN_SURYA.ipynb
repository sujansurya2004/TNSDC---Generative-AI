{
  "nbformat": 4,
  "nbformat_minor": 0,
  "metadata": {
    "colab": {
      "provenance": []
    },
    "kernelspec": {
      "name": "python3",
      "display_name": "Python 3"
    },
    "language_info": {
      "name": "python"
    }
  },
  "cells": [
    {
      "cell_type": "code",
      "execution_count": 8,
      "metadata": {
        "id": "MZBQ4qnsljQM"
      },
      "outputs": [],
      "source": [
        "import pandas as pd\n",
        "import numpy as np\n",
        "from sklearn.model_selection import train_test_split\n",
        "from sklearn.preprocessing import LabelEncoder\n",
        "from tensorflow.keras.models import Sequential\n",
        "from tensorflow.keras.layers import LSTM, Dense, Embedding"
      ]
    },
    {
      "cell_type": "code",
      "source": [
        "df = pd.read_csv(\"songs.csv\")\n"
      ],
      "metadata": {
        "id": "D0kCEMbUnrny"
      },
      "execution_count": 9,
      "outputs": []
    },
    {
      "cell_type": "code",
      "source": [
        "singer_encoder = LabelEncoder()\n",
        "track_encoder = LabelEncoder()"
      ],
      "metadata": {
        "id": "M91-_5OYnrk2"
      },
      "execution_count": 10,
      "outputs": []
    },
    {
      "cell_type": "code",
      "source": [
        "df['SINGER_NAME_ENCODED'] = singer_encoder.fit_transform(df['SINGER_NAME'])\n",
        "df['TRACK_NAME_ENCODED'] = track_encoder.fit_transform(df['TRACK_NAME'])\n",
        "\n"
      ],
      "metadata": {
        "id": "dja3s31pnrjO"
      },
      "execution_count": 11,
      "outputs": []
    },
    {
      "cell_type": "code",
      "source": [
        "X = df['SINGER_NAME_ENCODED'].values.reshape(-1, 1)\n",
        "y = df['TRACK_NAME_ENCODED'].values.reshape(-1, 1)\n",
        "X_train, X_test, y_train, y_test = train_test_split(X, y, test_size=0.2, random_state=42)\n"
      ],
      "metadata": {
        "id": "TBcmNIhvnrhk"
      },
      "execution_count": 12,
      "outputs": []
    },
    {
      "cell_type": "code",
      "source": [
        "model = Sequential([\n",
        "    Embedding(input_dim=len(singer_encoder.classes_), output_dim=50, input_length=1),\n",
        "    LSTM(100),\n",
        "    Dense(len(track_encoder.classes_), activation='softmax')\n",
        "])\n",
        "\n",
        "model.compile(loss='sparse_categorical_crossentropy', optimizer='adam', metrics=['accuracy'])\n"
      ],
      "metadata": {
        "id": "cmYelv-JnrfV"
      },
      "execution_count": 30,
      "outputs": []
    },
    {
      "cell_type": "code",
      "source": [
        "model.fit(X_train, y_train, epochs=50, batch_size=64, validation_data=(X_test, y_test))\n"
      ],
      "metadata": {
        "id": "0EoBQLAgnrdS",
        "colab": {
          "base_uri": "https://localhost:8080/"
        },
        "outputId": "cb796e09-5fb6-46e6-bbb6-31f7b0953673"
      },
      "execution_count": 75,
      "outputs": [
        {
          "output_type": "stream",
          "name": "stdout",
          "text": [
            "Epoch 1/50\n",
            "4/4 [==============================] - 0s 42ms/step - loss: 0.2468 - accuracy: 0.8326 - val_loss: 10.0782 - val_accuracy: 0.0000e+00\n",
            "Epoch 2/50\n",
            "4/4 [==============================] - 0s 19ms/step - loss: 0.2464 - accuracy: 0.8455 - val_loss: 10.0794 - val_accuracy: 0.0000e+00\n",
            "Epoch 3/50\n",
            "4/4 [==============================] - 0s 21ms/step - loss: 0.2466 - accuracy: 0.8283 - val_loss: 10.0809 - val_accuracy: 0.0000e+00\n",
            "Epoch 4/50\n",
            "4/4 [==============================] - 0s 20ms/step - loss: 0.2466 - accuracy: 0.8412 - val_loss: 10.0811 - val_accuracy: 0.0000e+00\n",
            "Epoch 5/50\n",
            "4/4 [==============================] - 0s 23ms/step - loss: 0.2465 - accuracy: 0.8283 - val_loss: 10.0824 - val_accuracy: 0.0000e+00\n",
            "Epoch 6/50\n",
            "4/4 [==============================] - 0s 19ms/step - loss: 0.2465 - accuracy: 0.8369 - val_loss: 10.0848 - val_accuracy: 0.0000e+00\n",
            "Epoch 7/50\n",
            "4/4 [==============================] - 0s 17ms/step - loss: 0.2468 - accuracy: 0.8326 - val_loss: 10.0873 - val_accuracy: 0.0000e+00\n",
            "Epoch 8/50\n",
            "4/4 [==============================] - 0s 23ms/step - loss: 0.2466 - accuracy: 0.8369 - val_loss: 10.0889 - val_accuracy: 0.0000e+00\n",
            "Epoch 9/50\n",
            "4/4 [==============================] - 0s 24ms/step - loss: 0.2466 - accuracy: 0.8326 - val_loss: 10.0901 - val_accuracy: 0.0000e+00\n",
            "Epoch 10/50\n",
            "4/4 [==============================] - 0s 24ms/step - loss: 0.2471 - accuracy: 0.8283 - val_loss: 10.0916 - val_accuracy: 0.0000e+00\n",
            "Epoch 11/50\n",
            "4/4 [==============================] - 0s 20ms/step - loss: 0.2468 - accuracy: 0.8369 - val_loss: 10.0933 - val_accuracy: 0.0000e+00\n",
            "Epoch 12/50\n",
            "4/4 [==============================] - 0s 18ms/step - loss: 0.2469 - accuracy: 0.8326 - val_loss: 10.0948 - val_accuracy: 0.0000e+00\n",
            "Epoch 13/50\n",
            "4/4 [==============================] - 0s 23ms/step - loss: 0.2467 - accuracy: 0.8240 - val_loss: 10.0965 - val_accuracy: 0.0000e+00\n",
            "Epoch 14/50\n",
            "4/4 [==============================] - 0s 26ms/step - loss: 0.2467 - accuracy: 0.8412 - val_loss: 10.0972 - val_accuracy: 0.0000e+00\n",
            "Epoch 15/50\n",
            "4/4 [==============================] - 0s 24ms/step - loss: 0.2466 - accuracy: 0.8283 - val_loss: 10.0986 - val_accuracy: 0.0000e+00\n",
            "Epoch 16/50\n",
            "4/4 [==============================] - 0s 24ms/step - loss: 0.2467 - accuracy: 0.8412 - val_loss: 10.0993 - val_accuracy: 0.0000e+00\n",
            "Epoch 17/50\n",
            "4/4 [==============================] - 0s 19ms/step - loss: 0.2467 - accuracy: 0.8412 - val_loss: 10.0996 - val_accuracy: 0.0000e+00\n",
            "Epoch 18/50\n",
            "4/4 [==============================] - 0s 19ms/step - loss: 0.2470 - accuracy: 0.8283 - val_loss: 10.1001 - val_accuracy: 0.0000e+00\n",
            "Epoch 19/50\n",
            "4/4 [==============================] - 0s 25ms/step - loss: 0.2467 - accuracy: 0.8240 - val_loss: 10.1003 - val_accuracy: 0.0000e+00\n",
            "Epoch 20/50\n",
            "4/4 [==============================] - 0s 24ms/step - loss: 0.2463 - accuracy: 0.8412 - val_loss: 10.1016 - val_accuracy: 0.0000e+00\n",
            "Epoch 21/50\n",
            "4/4 [==============================] - 0s 21ms/step - loss: 0.2464 - accuracy: 0.8412 - val_loss: 10.1021 - val_accuracy: 0.0000e+00\n",
            "Epoch 22/50\n",
            "4/4 [==============================] - 0s 18ms/step - loss: 0.2464 - accuracy: 0.8283 - val_loss: 10.1045 - val_accuracy: 0.0000e+00\n",
            "Epoch 23/50\n",
            "4/4 [==============================] - 0s 24ms/step - loss: 0.2467 - accuracy: 0.8155 - val_loss: 10.1073 - val_accuracy: 0.0000e+00\n",
            "Epoch 24/50\n",
            "4/4 [==============================] - 0s 27ms/step - loss: 0.2465 - accuracy: 0.8326 - val_loss: 10.1090 - val_accuracy: 0.0000e+00\n",
            "Epoch 25/50\n",
            "4/4 [==============================] - 0s 20ms/step - loss: 0.2466 - accuracy: 0.8412 - val_loss: 10.1101 - val_accuracy: 0.0000e+00\n",
            "Epoch 26/50\n",
            "4/4 [==============================] - 0s 21ms/step - loss: 0.2463 - accuracy: 0.8455 - val_loss: 10.1114 - val_accuracy: 0.0000e+00\n",
            "Epoch 27/50\n",
            "4/4 [==============================] - 0s 23ms/step - loss: 0.2468 - accuracy: 0.8369 - val_loss: 10.1141 - val_accuracy: 0.0000e+00\n",
            "Epoch 28/50\n",
            "4/4 [==============================] - 0s 22ms/step - loss: 0.2468 - accuracy: 0.8326 - val_loss: 10.1155 - val_accuracy: 0.0000e+00\n",
            "Epoch 29/50\n",
            "4/4 [==============================] - 0s 19ms/step - loss: 0.2466 - accuracy: 0.8326 - val_loss: 10.1168 - val_accuracy: 0.0000e+00\n",
            "Epoch 30/50\n",
            "4/4 [==============================] - 0s 19ms/step - loss: 0.2460 - accuracy: 0.8240 - val_loss: 10.1179 - val_accuracy: 0.0000e+00\n",
            "Epoch 31/50\n",
            "4/4 [==============================] - 0s 18ms/step - loss: 0.2461 - accuracy: 0.8412 - val_loss: 10.1194 - val_accuracy: 0.0000e+00\n",
            "Epoch 32/50\n",
            "4/4 [==============================] - 0s 18ms/step - loss: 0.2461 - accuracy: 0.8240 - val_loss: 10.1200 - val_accuracy: 0.0000e+00\n",
            "Epoch 33/50\n",
            "4/4 [==============================] - 0s 19ms/step - loss: 0.2463 - accuracy: 0.8412 - val_loss: 10.1202 - val_accuracy: 0.0000e+00\n",
            "Epoch 34/50\n",
            "4/4 [==============================] - 0s 26ms/step - loss: 0.2465 - accuracy: 0.8283 - val_loss: 10.1219 - val_accuracy: 0.0000e+00\n",
            "Epoch 35/50\n",
            "4/4 [==============================] - 0s 24ms/step - loss: 0.2461 - accuracy: 0.8369 - val_loss: 10.1229 - val_accuracy: 0.0000e+00\n",
            "Epoch 36/50\n",
            "4/4 [==============================] - 0s 21ms/step - loss: 0.2461 - accuracy: 0.8455 - val_loss: 10.1240 - val_accuracy: 0.0000e+00\n",
            "Epoch 37/50\n",
            "4/4 [==============================] - 0s 19ms/step - loss: 0.2462 - accuracy: 0.8412 - val_loss: 10.1250 - val_accuracy: 0.0000e+00\n",
            "Epoch 38/50\n",
            "4/4 [==============================] - 0s 20ms/step - loss: 0.2461 - accuracy: 0.8326 - val_loss: 10.1255 - val_accuracy: 0.0000e+00\n",
            "Epoch 39/50\n",
            "4/4 [==============================] - 0s 20ms/step - loss: 0.2465 - accuracy: 0.8240 - val_loss: 10.1269 - val_accuracy: 0.0000e+00\n",
            "Epoch 40/50\n",
            "4/4 [==============================] - 0s 25ms/step - loss: 0.2464 - accuracy: 0.8412 - val_loss: 10.1279 - val_accuracy: 0.0000e+00\n",
            "Epoch 41/50\n",
            "4/4 [==============================] - 0s 29ms/step - loss: 0.2465 - accuracy: 0.8369 - val_loss: 10.1288 - val_accuracy: 0.0000e+00\n",
            "Epoch 42/50\n",
            "4/4 [==============================] - 0s 19ms/step - loss: 0.2461 - accuracy: 0.8326 - val_loss: 10.1292 - val_accuracy: 0.0000e+00\n",
            "Epoch 43/50\n",
            "4/4 [==============================] - 0s 24ms/step - loss: 0.2461 - accuracy: 0.8283 - val_loss: 10.1299 - val_accuracy: 0.0000e+00\n",
            "Epoch 44/50\n",
            "4/4 [==============================] - 0s 20ms/step - loss: 0.2463 - accuracy: 0.8369 - val_loss: 10.1326 - val_accuracy: 0.0000e+00\n",
            "Epoch 45/50\n",
            "4/4 [==============================] - 0s 19ms/step - loss: 0.2463 - accuracy: 0.8240 - val_loss: 10.1338 - val_accuracy: 0.0000e+00\n",
            "Epoch 46/50\n",
            "4/4 [==============================] - 0s 20ms/step - loss: 0.2462 - accuracy: 0.8326 - val_loss: 10.1354 - val_accuracy: 0.0000e+00\n",
            "Epoch 47/50\n",
            "4/4 [==============================] - 0s 24ms/step - loss: 0.2463 - accuracy: 0.8240 - val_loss: 10.1373 - val_accuracy: 0.0000e+00\n",
            "Epoch 48/50\n",
            "4/4 [==============================] - 0s 18ms/step - loss: 0.2460 - accuracy: 0.8412 - val_loss: 10.1390 - val_accuracy: 0.0000e+00\n",
            "Epoch 49/50\n",
            "4/4 [==============================] - 0s 20ms/step - loss: 0.2460 - accuracy: 0.8412 - val_loss: 10.1402 - val_accuracy: 0.0000e+00\n",
            "Epoch 50/50\n",
            "4/4 [==============================] - 0s 25ms/step - loss: 0.2461 - accuracy: 0.8326 - val_loss: 10.1418 - val_accuracy: 0.0000e+00\n"
          ]
        },
        {
          "output_type": "execute_result",
          "data": {
            "text/plain": [
              "<keras.src.callbacks.History at 0x7e3302c05ea0>"
            ]
          },
          "metadata": {},
          "execution_count": 75
        }
      ]
    },
    {
      "cell_type": "code",
      "source": [
        "loss, accuracy = model.evaluate(X_test, y_test)\n",
        "print(\"Test Accuracy:\", accuracy)"
      ],
      "metadata": {
        "id": "d-j_7Z5Anrbb",
        "colab": {
          "base_uri": "https://localhost:8080/"
        },
        "outputId": "24411621-3312-448e-f636-06ecbb898755"
      },
      "execution_count": 63,
      "outputs": [
        {
          "output_type": "stream",
          "name": "stdout",
          "text": [
            "2/2 [==============================] - 0s 11ms/step - loss: 9.7102 - accuracy: 0.0000e+00\n",
            "Test Accuracy: 0.0\n"
          ]
        }
      ]
    },
    {
      "cell_type": "code",
      "source": [
        "def generate_songs(singer_name, num_songs=5):\n",
        "    singer_encoded = singer_encoder.transform([singer_name])\n",
        "    singer_encoded = np.array(singer_encoded).reshape(-1, 1)\n",
        "    generated_songs = []\n",
        "    for _ in range(num_songs):\n",
        "        prediction = model.predict(singer_encoded)\n",
        "        sampled_index = np.random.choice(len(prediction[0]), p=prediction[0])\n",
        "        sampled_track = track_encoder.inverse_transform([sampled_index])[0]\n",
        "        generated_songs.append(sampled_track)\n",
        "    return generated_songs\n"
      ],
      "metadata": {
        "id": "Ob73KxM3nrZS"
      },
      "execution_count": 76,
      "outputs": []
    },
    {
      "cell_type": "code",
      "source": [
        "singer_name = \"Doja Cat\"\n",
        "num_songs = 3\n",
        "generated_songs = generate_songs(singer_name, num_songs=num_songs)\n",
        "print(f\"Generated songs for singer {singer_name}:\")\n",
        "for i, song in enumerate(generated_songs, 1):\n",
        "    print(f\"Song {i}: {song}\")"
      ],
      "metadata": {
        "id": "o1Fc_w-xnrXE",
        "colab": {
          "base_uri": "https://localhost:8080/"
        },
        "outputId": "0bef3d06-1b3f-4517-bd21-87442990f555"
      },
      "execution_count": 92,
      "outputs": [
        {
          "output_type": "stream",
          "name": "stdout",
          "text": [
            "1/1 [==============================] - 0s 24ms/step\n",
            "1/1 [==============================] - 0s 22ms/step\n",
            "1/1 [==============================] - 0s 29ms/step\n",
            "Generated songs for singer Doja Cat:\n",
            "Song 1: Say So\n",
            "Song 2: Like That (feat. Gucci Mane)\n",
            "Song 3: Freak\n"
          ]
        }
      ]
    },
    {
      "cell_type": "code",
      "source": [],
      "metadata": {
        "id": "QwDWL6SWnrUz"
      },
      "execution_count": 65,
      "outputs": []
    },
    {
      "cell_type": "code",
      "source": [],
      "metadata": {
        "id": "Z6u2wW78nrSr"
      },
      "execution_count": null,
      "outputs": []
    },
    {
      "cell_type": "code",
      "source": [],
      "metadata": {
        "id": "OGPbucdgnrQt"
      },
      "execution_count": null,
      "outputs": []
    },
    {
      "cell_type": "code",
      "source": [],
      "metadata": {
        "id": "IowjiVFknrOw"
      },
      "execution_count": null,
      "outputs": []
    }
  ]
}